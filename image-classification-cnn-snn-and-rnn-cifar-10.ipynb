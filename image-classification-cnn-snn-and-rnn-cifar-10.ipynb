{
 "cells": [
  {
   "cell_type": "code",
   "execution_count": 1,
   "id": "5dac829a",
   "metadata": {
    "_cell_guid": "b1076dfc-b9ad-4769-8c92-a6c4dae69d19",
    "_uuid": "8f2839f25d086af736a60e9eeb907d3b93b6e0e5",
    "execution": {
     "iopub.execute_input": "2024-09-04T04:31:33.610466Z",
     "iopub.status.busy": "2024-09-04T04:31:33.608709Z",
     "iopub.status.idle": "2024-09-04T04:31:49.296938Z",
     "shell.execute_reply": "2024-09-04T04:31:49.295616Z"
    },
    "papermill": {
     "duration": 15.70077,
     "end_time": "2024-09-04T04:31:49.299841",
     "exception": false,
     "start_time": "2024-09-04T04:31:33.599071",
     "status": "completed"
    },
    "tags": []
   },
   "outputs": [],
   "source": [
    "import tensorflow as tf\n",
    "from tensorflow.keras import datasets, layers, models\n",
    "import numpy as np\n",
    "import matplotlib.pyplot as plt\n",
    "import pandas as pd"
   ]
  },
  {
   "cell_type": "code",
   "execution_count": 2,
   "id": "eab0fbd7",
   "metadata": {
    "execution": {
     "iopub.execute_input": "2024-09-04T04:31:49.311280Z",
     "iopub.status.busy": "2024-09-04T04:31:49.310548Z",
     "iopub.status.idle": "2024-09-04T04:31:54.156597Z",
     "shell.execute_reply": "2024-09-04T04:31:54.155375Z"
    },
    "papermill": {
     "duration": 4.85481,
     "end_time": "2024-09-04T04:31:54.159562",
     "exception": false,
     "start_time": "2024-09-04T04:31:49.304752",
     "status": "completed"
    },
    "tags": []
   },
   "outputs": [
    {
     "name": "stdout",
     "output_type": "stream",
     "text": [
      "Downloading data from https://www.cs.toronto.edu/~kriz/cifar-10-python.tar.gz\n",
      "\u001b[1m170498071/170498071\u001b[0m \u001b[32m━━━━━━━━━━━━━━━━━━━━\u001b[0m\u001b[37m\u001b[0m \u001b[1m2s\u001b[0m 0us/step\n"
     ]
    }
   ],
   "source": [
    "(train_images, train_labels), (test_images, test_labels) = datasets.cifar10.load_data()"
   ]
  },
  {
   "cell_type": "code",
   "execution_count": 3,
   "id": "54142cb3",
   "metadata": {
    "execution": {
     "iopub.execute_input": "2024-09-04T04:31:54.178989Z",
     "iopub.status.busy": "2024-09-04T04:31:54.178512Z",
     "iopub.status.idle": "2024-09-04T04:31:54.826077Z",
     "shell.execute_reply": "2024-09-04T04:31:54.824869Z"
    },
    "papermill": {
     "duration": 0.660561,
     "end_time": "2024-09-04T04:31:54.829067",
     "exception": false,
     "start_time": "2024-09-04T04:31:54.168506",
     "status": "completed"
    },
    "tags": []
   },
   "outputs": [],
   "source": [
    "train_images, test_images = train_images / 255.0, test_images / 255.0"
   ]
  },
  {
   "cell_type": "code",
   "execution_count": 4,
   "id": "1ce92d85",
   "metadata": {
    "execution": {
     "iopub.execute_input": "2024-09-04T04:31:54.848735Z",
     "iopub.status.busy": "2024-09-04T04:31:54.847774Z",
     "iopub.status.idle": "2024-09-04T04:44:38.596325Z",
     "shell.execute_reply": "2024-09-04T04:44:38.595202Z"
    },
    "papermill": {
     "duration": 763.761546,
     "end_time": "2024-09-04T04:44:38.599271",
     "exception": false,
     "start_time": "2024-09-04T04:31:54.837725",
     "status": "completed"
    },
    "tags": []
   },
   "outputs": [
    {
     "name": "stderr",
     "output_type": "stream",
     "text": [
      "/opt/conda/lib/python3.10/site-packages/keras/src/layers/convolutional/base_conv.py:107: UserWarning: Do not pass an `input_shape`/`input_dim` argument to a layer. When using Sequential models, prefer using an `Input(shape)` object as the first layer in the model instead.\n",
      "  super().__init__(activity_regularizer=activity_regularizer, **kwargs)\n"
     ]
    },
    {
     "name": "stdout",
     "output_type": "stream",
     "text": [
      "Epoch 1/20\n",
      "\u001b[1m1563/1563\u001b[0m \u001b[32m━━━━━━━━━━━━━━━━━━━━\u001b[0m\u001b[37m\u001b[0m \u001b[1m40s\u001b[0m 25ms/step - accuracy: 0.3686 - loss: 1.7083 - val_accuracy: 0.5559 - val_loss: 1.2357\n",
      "Epoch 2/20\n",
      "\u001b[1m1563/1563\u001b[0m \u001b[32m━━━━━━━━━━━━━━━━━━━━\u001b[0m\u001b[37m\u001b[0m \u001b[1m37s\u001b[0m 23ms/step - accuracy: 0.5876 - loss: 1.1699 - val_accuracy: 0.6333 - val_loss: 1.0416\n",
      "Epoch 3/20\n",
      "\u001b[1m1563/1563\u001b[0m \u001b[32m━━━━━━━━━━━━━━━━━━━━\u001b[0m\u001b[37m\u001b[0m \u001b[1m36s\u001b[0m 23ms/step - accuracy: 0.6504 - loss: 0.9991 - val_accuracy: 0.6600 - val_loss: 0.9671\n",
      "Epoch 4/20\n",
      "\u001b[1m1563/1563\u001b[0m \u001b[32m━━━━━━━━━━━━━━━━━━━━\u001b[0m\u001b[37m\u001b[0m \u001b[1m36s\u001b[0m 23ms/step - accuracy: 0.6866 - loss: 0.8951 - val_accuracy: 0.6837 - val_loss: 0.8946\n",
      "Epoch 5/20\n",
      "\u001b[1m1563/1563\u001b[0m \u001b[32m━━━━━━━━━━━━━━━━━━━━\u001b[0m\u001b[37m\u001b[0m \u001b[1m37s\u001b[0m 23ms/step - accuracy: 0.7158 - loss: 0.8162 - val_accuracy: 0.6920 - val_loss: 0.8752\n",
      "Epoch 6/20\n",
      "\u001b[1m1563/1563\u001b[0m \u001b[32m━━━━━━━━━━━━━━━━━━━━\u001b[0m\u001b[37m\u001b[0m \u001b[1m36s\u001b[0m 23ms/step - accuracy: 0.7346 - loss: 0.7473 - val_accuracy: 0.6978 - val_loss: 0.8578\n",
      "Epoch 7/20\n",
      "\u001b[1m1563/1563\u001b[0m \u001b[32m━━━━━━━━━━━━━━━━━━━━\u001b[0m\u001b[37m\u001b[0m \u001b[1m42s\u001b[0m 24ms/step - accuracy: 0.7563 - loss: 0.6920 - val_accuracy: 0.6921 - val_loss: 0.9086\n",
      "Epoch 8/20\n",
      "\u001b[1m1563/1563\u001b[0m \u001b[32m━━━━━━━━━━━━━━━━━━━━\u001b[0m\u001b[37m\u001b[0m \u001b[1m41s\u001b[0m 24ms/step - accuracy: 0.7677 - loss: 0.6587 - val_accuracy: 0.7079 - val_loss: 0.8544\n",
      "Epoch 9/20\n",
      "\u001b[1m1563/1563\u001b[0m \u001b[32m━━━━━━━━━━━━━━━━━━━━\u001b[0m\u001b[37m\u001b[0m \u001b[1m37s\u001b[0m 24ms/step - accuracy: 0.7830 - loss: 0.6194 - val_accuracy: 0.7221 - val_loss: 0.8398\n",
      "Epoch 10/20\n",
      "\u001b[1m1563/1563\u001b[0m \u001b[32m━━━━━━━━━━━━━━━━━━━━\u001b[0m\u001b[37m\u001b[0m \u001b[1m41s\u001b[0m 24ms/step - accuracy: 0.8016 - loss: 0.5637 - val_accuracy: 0.7114 - val_loss: 0.8784\n",
      "Epoch 11/20\n",
      "\u001b[1m1563/1563\u001b[0m \u001b[32m━━━━━━━━━━━━━━━━━━━━\u001b[0m\u001b[37m\u001b[0m \u001b[1m36s\u001b[0m 23ms/step - accuracy: 0.8095 - loss: 0.5400 - val_accuracy: 0.7139 - val_loss: 0.8896\n",
      "Epoch 12/20\n",
      "\u001b[1m1563/1563\u001b[0m \u001b[32m━━━━━━━━━━━━━━━━━━━━\u001b[0m\u001b[37m\u001b[0m \u001b[1m36s\u001b[0m 23ms/step - accuracy: 0.8233 - loss: 0.5046 - val_accuracy: 0.7157 - val_loss: 0.8705\n",
      "Epoch 13/20\n",
      "\u001b[1m1563/1563\u001b[0m \u001b[32m━━━━━━━━━━━━━━━━━━━━\u001b[0m\u001b[37m\u001b[0m \u001b[1m41s\u001b[0m 23ms/step - accuracy: 0.8332 - loss: 0.4781 - val_accuracy: 0.7154 - val_loss: 0.8867\n",
      "Epoch 14/20\n",
      "\u001b[1m1563/1563\u001b[0m \u001b[32m━━━━━━━━━━━━━━━━━━━━\u001b[0m\u001b[37m\u001b[0m \u001b[1m36s\u001b[0m 23ms/step - accuracy: 0.8431 - loss: 0.4467 - val_accuracy: 0.7155 - val_loss: 0.9606\n",
      "Epoch 15/20\n",
      "\u001b[1m1563/1563\u001b[0m \u001b[32m━━━━━━━━━━━━━━━━━━━━\u001b[0m\u001b[37m\u001b[0m \u001b[1m37s\u001b[0m 23ms/step - accuracy: 0.8536 - loss: 0.4122 - val_accuracy: 0.7107 - val_loss: 0.9729\n",
      "Epoch 16/20\n",
      "\u001b[1m1563/1563\u001b[0m \u001b[32m━━━━━━━━━━━━━━━━━━━━\u001b[0m\u001b[37m\u001b[0m \u001b[1m41s\u001b[0m 23ms/step - accuracy: 0.8647 - loss: 0.3828 - val_accuracy: 0.7060 - val_loss: 1.0025\n",
      "Epoch 17/20\n",
      "\u001b[1m1563/1563\u001b[0m \u001b[32m━━━━━━━━━━━━━━━━━━━━\u001b[0m\u001b[37m\u001b[0m \u001b[1m36s\u001b[0m 23ms/step - accuracy: 0.8705 - loss: 0.3604 - val_accuracy: 0.7136 - val_loss: 1.0002\n",
      "Epoch 18/20\n",
      "\u001b[1m1563/1563\u001b[0m \u001b[32m━━━━━━━━━━━━━━━━━━━━\u001b[0m\u001b[37m\u001b[0m \u001b[1m37s\u001b[0m 24ms/step - accuracy: 0.8822 - loss: 0.3302 - val_accuracy: 0.7074 - val_loss: 1.0498\n",
      "Epoch 19/20\n",
      "\u001b[1m1563/1563\u001b[0m \u001b[32m━━━━━━━━━━━━━━━━━━━━\u001b[0m\u001b[37m\u001b[0m \u001b[1m41s\u001b[0m 23ms/step - accuracy: 0.8863 - loss: 0.3232 - val_accuracy: 0.7089 - val_loss: 1.1523\n",
      "Epoch 20/20\n",
      "\u001b[1m1563/1563\u001b[0m \u001b[32m━━━━━━━━━━━━━━━━━━━━\u001b[0m\u001b[37m\u001b[0m \u001b[1m37s\u001b[0m 24ms/step - accuracy: 0.8939 - loss: 0.2950 - val_accuracy: 0.7031 - val_loss: 1.1648\n"
     ]
    }
   ],
   "source": [
    "model_cnn = models.Sequential()\n",
    "model_cnn.add(layers.Conv2D(32, (3, 3), activation='relu', input_shape=(32, 32, 3)))\n",
    "model_cnn.add(layers.MaxPooling2D((2, 2)))\n",
    "model_cnn.add(layers.Conv2D(64, (3, 3), activation='relu'))\n",
    "model_cnn.add(layers.MaxPooling2D((2, 2)))\n",
    "model_cnn.add(layers.Conv2D(64, (3, 3), activation='relu'))\n",
    "model_cnn.add(layers.Flatten())\n",
    "model_cnn.add(layers.Dense(64, activation='relu'))\n",
    "model_cnn.add(layers.Dense(10))\n",
    "\n",
    "model_cnn.compile(optimizer='adam',\n",
    "              loss=tf.keras.losses.SparseCategoricalCrossentropy(from_logits=True),\n",
    "              metrics=['accuracy'])\n",
    "\n",
    "history_cnn = model_cnn.fit(train_images, train_labels, epochs=20, \n",
    "                    validation_data=(test_images, test_labels))"
   ]
  },
  {
   "cell_type": "code",
   "execution_count": 5,
   "id": "86b8e6d1",
   "metadata": {
    "execution": {
     "iopub.execute_input": "2024-09-04T04:44:40.814409Z",
     "iopub.status.busy": "2024-09-04T04:44:40.813898Z",
     "iopub.status.idle": "2024-09-04T04:44:41.435266Z",
     "shell.execute_reply": "2024-09-04T04:44:41.433997Z"
    },
    "papermill": {
     "duration": 1.686214,
     "end_time": "2024-09-04T04:44:41.438246",
     "exception": false,
     "start_time": "2024-09-04T04:44:39.752032",
     "status": "completed"
    },
    "tags": []
   },
   "outputs": [
    {
     "data": {
      "image/png": "[encoded data removed]",
      "text/plain": [
       "<Figure size 640x480 with 1 Axes>"
      ]
     },
     "metadata": {},
     "output_type": "display_data"
    },
    {
     "data": {
      "image/png": "[encoded data removed]",
      "text/plain": [
       "<Figure size 640x480 with 1 Axes>"
      ]
     },
     "metadata": {},
     "output_type": "display_data"
    }
   ],
   "source": [
    "plt.plot(history_cnn.history['accuracy'], label='accuracy')\n",
    "plt.plot(history_cnn.history['val_accuracy'], label='val_accuracy')\n",
    "plt.xlabel('Epoch')\n",
    "plt.ylabel('Accuracy')\n",
    "plt.legend()\n",
    "plt.show()\n",
    "\n",
    "plt.plot(history_cnn.history['loss'], label='loss')\n",
    "plt.plot(history_cnn.history['val_loss'], label='val_loss')\n",
    "plt.xlabel('Epoch')\n",
    "plt.ylabel('Loss')\n",
    "plt.legend()\n",
    "plt.show()"
   ]
  },
  {
   "cell_type": "code",
   "execution_count": 6,
   "id": "252b4e71",
   "metadata": {
    "execution": {
     "iopub.execute_input": "2024-09-04T04:44:43.621851Z",
     "iopub.status.busy": "2024-09-04T04:44:43.621377Z",
     "iopub.status.idle": "2024-09-04T04:47:41.584178Z",
     "shell.execute_reply": "2024-09-04T04:47:41.582824Z"
    },
    "papermill": {
     "duration": 179.029471,
     "end_time": "2024-09-04T04:47:41.587121",
     "exception": false,
     "start_time": "2024-09-04T04:44:42.557650",
     "status": "completed"
    },
    "tags": []
   },
   "outputs": [
    {
     "name": "stderr",
     "output_type": "stream",
     "text": [
      "/opt/conda/lib/python3.10/site-packages/keras/src/layers/reshaping/flatten.py:37: UserWarning: Do not pass an `input_shape`/`input_dim` argument to a layer. When using Sequential models, prefer using an `Input(shape)` object as the first layer in the model instead.\n",
      "  super().__init__(**kwargs)\n"
     ]
    },
    {
     "name": "stdout",
     "output_type": "stream",
     "text": [
      "Epoch 1/20\n",
      "\u001b[1m1563/1563\u001b[0m \u001b[32m━━━━━━━━━━━━━━━━━━━━\u001b[0m\u001b[37m\u001b[0m \u001b[1m10s\u001b[0m 6ms/step - accuracy: 0.2746 - loss: 2.0091 - val_accuracy: 0.3484 - val_loss: 1.7848\n",
      "Epoch 2/20\n",
      "\u001b[1m1563/1563\u001b[0m \u001b[32m━━━━━━━━━━━━━━━━━━━━\u001b[0m\u001b[37m\u001b[0m \u001b[1m8s\u001b[0m 5ms/step - accuracy: 0.3806 - loss: 1.7343 - val_accuracy: 0.4084 - val_loss: 1.6608\n",
      "Epoch 3/20\n",
      "\u001b[1m1563/1563\u001b[0m \u001b[32m━━━━━━━━━━━━━━━━━━━━\u001b[0m\u001b[37m\u001b[0m \u001b[1m8s\u001b[0m 5ms/step - accuracy: 0.4099 - loss: 1.6452 - val_accuracy: 0.4132 - val_loss: 1.6172\n",
      "Epoch 4/20\n",
      "\u001b[1m1563/1563\u001b[0m \u001b[32m━━━━━━━━━━━━━━━━━━━━\u001b[0m\u001b[37m\u001b[0m \u001b[1m8s\u001b[0m 5ms/step - accuracy: 0.4311 - loss: 1.5923 - val_accuracy: 0.4333 - val_loss: 1.5697\n",
      "Epoch 5/20\n",
      "\u001b[1m1563/1563\u001b[0m \u001b[32m━━━━━━━━━━━━━━━━━━━━\u001b[0m\u001b[37m\u001b[0m \u001b[1m8s\u001b[0m 5ms/step - accuracy: 0.4430 - loss: 1.5568 - val_accuracy: 0.4285 - val_loss: 1.5861\n",
      "Epoch 6/20\n",
      "\u001b[1m1563/1563\u001b[0m \u001b[32m━━━━━━━━━━━━━━━━━━━━\u001b[0m\u001b[37m\u001b[0m \u001b[1m8s\u001b[0m 5ms/step - accuracy: 0.4544 - loss: 1.5271 - val_accuracy: 0.4548 - val_loss: 1.5195\n",
      "Epoch 7/20\n",
      "\u001b[1m1563/1563\u001b[0m \u001b[32m━━━━━━━━━━━━━━━━━━━━\u001b[0m\u001b[37m\u001b[0m \u001b[1m8s\u001b[0m 5ms/step - accuracy: 0.4655 - loss: 1.5008 - val_accuracy: 0.4548 - val_loss: 1.5268\n",
      "Epoch 8/20\n",
      "\u001b[1m1563/1563\u001b[0m \u001b[32m━━━━━━━━━━━━━━━━━━━━\u001b[0m\u001b[37m\u001b[0m \u001b[1m8s\u001b[0m 5ms/step - accuracy: 0.4705 - loss: 1.4794 - val_accuracy: 0.4496 - val_loss: 1.5361\n",
      "Epoch 9/20\n",
      "\u001b[1m1563/1563\u001b[0m \u001b[32m━━━━━━━━━━━━━━━━━━━━\u001b[0m\u001b[37m\u001b[0m \u001b[1m8s\u001b[0m 5ms/step - accuracy: 0.4755 - loss: 1.4629 - val_accuracy: 0.4547 - val_loss: 1.5159\n",
      "Epoch 10/20\n",
      "\u001b[1m1563/1563\u001b[0m \u001b[32m━━━━━━━━━━━━━━━━━━━━\u001b[0m\u001b[37m\u001b[0m \u001b[1m9s\u001b[0m 6ms/step - accuracy: 0.4831 - loss: 1.4485 - val_accuracy: 0.4575 - val_loss: 1.5020\n",
      "Epoch 11/20\n",
      "\u001b[1m1563/1563\u001b[0m \u001b[32m━━━━━━━━━━━━━━━━━━━━\u001b[0m\u001b[37m\u001b[0m \u001b[1m9s\u001b[0m 6ms/step - accuracy: 0.4807 - loss: 1.4458 - val_accuracy: 0.4719 - val_loss: 1.4800\n",
      "Epoch 12/20\n",
      "\u001b[1m1563/1563\u001b[0m \u001b[32m━━━━━━━━━━━━━━━━━━━━\u001b[0m\u001b[37m\u001b[0m \u001b[1m9s\u001b[0m 6ms/step - accuracy: 0.4887 - loss: 1.4263 - val_accuracy: 0.4618 - val_loss: 1.5060\n",
      "Epoch 13/20\n",
      "\u001b[1m1563/1563\u001b[0m \u001b[32m━━━━━━━━━━━━━━━━━━━━\u001b[0m\u001b[37m\u001b[0m \u001b[1m9s\u001b[0m 6ms/step - accuracy: 0.4950 - loss: 1.4074 - val_accuracy: 0.4588 - val_loss: 1.5220\n",
      "Epoch 14/20\n",
      "\u001b[1m1563/1563\u001b[0m \u001b[32m━━━━━━━━━━━━━━━━━━━━\u001b[0m\u001b[37m\u001b[0m \u001b[1m9s\u001b[0m 5ms/step - accuracy: 0.4962 - loss: 1.4061 - val_accuracy: 0.4791 - val_loss: 1.4653\n",
      "Epoch 15/20\n",
      "\u001b[1m1563/1563\u001b[0m \u001b[32m━━━━━━━━━━━━━━━━━━━━\u001b[0m\u001b[37m\u001b[0m \u001b[1m9s\u001b[0m 6ms/step - accuracy: 0.4994 - loss: 1.4002 - val_accuracy: 0.4674 - val_loss: 1.4844\n",
      "Epoch 16/20\n",
      "\u001b[1m1563/1563\u001b[0m \u001b[32m━━━━━━━━━━━━━━━━━━━━\u001b[0m\u001b[37m\u001b[0m \u001b[1m9s\u001b[0m 6ms/step - accuracy: 0.5051 - loss: 1.3858 - val_accuracy: 0.4740 - val_loss: 1.4912\n",
      "Epoch 17/20\n",
      "\u001b[1m1563/1563\u001b[0m \u001b[32m━━━━━━━━━━━━━━━━━━━━\u001b[0m\u001b[37m\u001b[0m \u001b[1m10s\u001b[0m 6ms/step - accuracy: 0.5059 - loss: 1.3739 - val_accuracy: 0.4806 - val_loss: 1.4610\n",
      "Epoch 18/20\n",
      "\u001b[1m1563/1563\u001b[0m \u001b[32m━━━━━━━━━━━━━━━━━━━━\u001b[0m\u001b[37m\u001b[0m \u001b[1m10s\u001b[0m 6ms/step - accuracy: 0.5106 - loss: 1.3699 - val_accuracy: 0.4692 - val_loss: 1.5107\n",
      "Epoch 19/20\n",
      "\u001b[1m1563/1563\u001b[0m \u001b[32m━━━━━━━━━━━━━━━━━━━━\u001b[0m\u001b[37m\u001b[0m \u001b[1m9s\u001b[0m 6ms/step - accuracy: 0.5112 - loss: 1.3635 - val_accuracy: 0.4843 - val_loss: 1.4520\n",
      "Epoch 20/20\n",
      "\u001b[1m1563/1563\u001b[0m \u001b[32m━━━━━━━━━━━━━━━━━━━━\u001b[0m\u001b[37m\u001b[0m \u001b[1m9s\u001b[0m 5ms/step - accuracy: 0.5173 - loss: 1.3527 - val_accuracy: 0.4719 - val_loss: 1.4860\n"
     ]
    }
   ],
   "source": [
    "# **Model 2: Simple Neural Network (SNN)**\n",
    "model_snn = models.Sequential()\n",
    "model_snn.add(layers.Flatten(input_shape=(32, 32, 3)))\n",
    "model_snn.add(layers.Dense(128, activation='relu'))\n",
    "model_snn.add(layers.Dense(64, activation='relu'))\n",
    "model_snn.add(layers.Dense(10))\n",
    "\n",
    "model_snn.compile(optimizer='adam',\n",
    "              loss=tf.keras.losses.SparseCategoricalCrossentropy(from_logits=True),\n",
    "              metrics=['accuracy'])\n",
    "\n",
    "history_snn = model_snn.fit(train_images, train_labels, epochs=20, \n",
    "                    validation_data=(test_images, test_labels))"
   ]
  },
  {
   "cell_type": "code",
   "execution_count": 7,
   "id": "16c757b1",
   "metadata": {
    "execution": {
     "iopub.execute_input": "2024-09-04T04:47:44.415270Z",
     "iopub.status.busy": "2024-09-04T04:47:44.413908Z",
     "iopub.status.idle": "2024-09-04T05:03:40.970467Z",
     "shell.execute_reply": "2024-09-04T05:03:40.969181Z"
    },
    "papermill": {
     "duration": 957.952079,
     "end_time": "2024-09-04T05:03:40.973515",
     "exception": false,
     "start_time": "2024-09-04T04:47:43.021436",
     "status": "completed"
    },
    "tags": []
   },
   "outputs": [
    {
     "name": "stderr",
     "output_type": "stream",
     "text": [
      "/opt/conda/lib/python3.10/site-packages/keras/src/layers/reshaping/reshape.py:39: UserWarning: Do not pass an `input_shape`/`input_dim` argument to a layer. When using Sequential models, prefer using an `Input(shape)` object as the first layer in the model instead.\n",
      "  super().__init__(**kwargs)\n"
     ]
    },
    {
     "name": "stdout",
     "output_type": "stream",
     "text": [
      "Epoch 1/20\n",
      "\u001b[1m1563/1563\u001b[0m \u001b[32m━━━━━━━━━━━━━━━━━━━━\u001b[0m\u001b[37m\u001b[0m \u001b[1m50s\u001b[0m 30ms/step - accuracy: 0.2915 - loss: 1.9341 - val_accuracy: 0.4120 - val_loss: 1.6255\n",
      "Epoch 2/20\n",
      "\u001b[1m1563/1563\u001b[0m \u001b[32m━━━━━━━━━━━━━━━━━━━━\u001b[0m\u001b[37m\u001b[0m \u001b[1m49s\u001b[0m 31ms/step - accuracy: 0.4231 - loss: 1.5903 - val_accuracy: 0.4402 - val_loss: 1.5637\n",
      "Epoch 3/20\n",
      "\u001b[1m1563/1563\u001b[0m \u001b[32m━━━━━━━━━━━━━━━━━━━━\u001b[0m\u001b[37m\u001b[0m \u001b[1m51s\u001b[0m 32ms/step - accuracy: 0.4630 - loss: 1.4871 - val_accuracy: 0.4870 - val_loss: 1.4176\n",
      "Epoch 4/20\n",
      "\u001b[1m1563/1563\u001b[0m \u001b[32m━━━━━━━━━━━━━━━━━━━━\u001b[0m\u001b[37m\u001b[0m \u001b[1m51s\u001b[0m 33ms/step - accuracy: 0.4905 - loss: 1.4052 - val_accuracy: 0.4896 - val_loss: 1.3918\n",
      "Epoch 5/20\n",
      "\u001b[1m1563/1563\u001b[0m \u001b[32m━━━━━━━━━━━━━━━━━━━━\u001b[0m\u001b[37m\u001b[0m \u001b[1m46s\u001b[0m 30ms/step - accuracy: 0.5095 - loss: 1.3510 - val_accuracy: 0.5145 - val_loss: 1.3328\n",
      "Epoch 6/20\n",
      "\u001b[1m1563/1563\u001b[0m \u001b[32m━━━━━━━━━━━━━━━━━━━━\u001b[0m\u001b[37m\u001b[0m \u001b[1m45s\u001b[0m 29ms/step - accuracy: 0.5265 - loss: 1.3053 - val_accuracy: 0.5196 - val_loss: 1.3297\n",
      "Epoch 7/20\n",
      "\u001b[1m1563/1563\u001b[0m \u001b[32m━━━━━━━━━━━━━━━━━━━━\u001b[0m\u001b[37m\u001b[0m \u001b[1m45s\u001b[0m 29ms/step - accuracy: 0.5469 - loss: 1.2576 - val_accuracy: 0.5435 - val_loss: 1.2707\n",
      "Epoch 8/20\n",
      "\u001b[1m1563/1563\u001b[0m \u001b[32m━━━━━━━━━━━━━━━━━━━━\u001b[0m\u001b[37m\u001b[0m \u001b[1m44s\u001b[0m 28ms/step - accuracy: 0.5605 - loss: 1.2159 - val_accuracy: 0.5419 - val_loss: 1.2605\n",
      "Epoch 9/20\n",
      "\u001b[1m1563/1563\u001b[0m \u001b[32m━━━━━━━━━━━━━━━━━━━━\u001b[0m\u001b[37m\u001b[0m \u001b[1m82s\u001b[0m 28ms/step - accuracy: 0.5731 - loss: 1.1825 - val_accuracy: 0.5541 - val_loss: 1.2403\n",
      "Epoch 10/20\n",
      "\u001b[1m1563/1563\u001b[0m \u001b[32m━━━━━━━━━━━━━━━━━━━━\u001b[0m\u001b[37m\u001b[0m \u001b[1m43s\u001b[0m 28ms/step - accuracy: 0.5854 - loss: 1.1465 - val_accuracy: 0.5506 - val_loss: 1.2533\n",
      "Epoch 11/20\n",
      "\u001b[1m1563/1563\u001b[0m \u001b[32m━━━━━━━━━━━━━━━━━━━━\u001b[0m\u001b[37m\u001b[0m \u001b[1m44s\u001b[0m 28ms/step - accuracy: 0.5953 - loss: 1.1222 - val_accuracy: 0.5518 - val_loss: 1.2387\n",
      "Epoch 12/20\n",
      "\u001b[1m1563/1563\u001b[0m \u001b[32m━━━━━━━━━━━━━━━━━━━━\u001b[0m\u001b[37m\u001b[0m \u001b[1m44s\u001b[0m 28ms/step - accuracy: 0.6021 - loss: 1.1021 - val_accuracy: 0.5617 - val_loss: 1.2269\n",
      "Epoch 13/20\n",
      "\u001b[1m1563/1563\u001b[0m \u001b[32m━━━━━━━━━━━━━━━━━━━━\u001b[0m\u001b[37m\u001b[0m \u001b[1m44s\u001b[0m 28ms/step - accuracy: 0.6154 - loss: 1.0738 - val_accuracy: 0.5665 - val_loss: 1.1999\n",
      "Epoch 14/20\n",
      "\u001b[1m1563/1563\u001b[0m \u001b[32m━━━━━━━━━━━━━━━━━━━━\u001b[0m\u001b[37m\u001b[0m \u001b[1m45s\u001b[0m 29ms/step - accuracy: 0.6169 - loss: 1.0586 - val_accuracy: 0.5709 - val_loss: 1.2007\n",
      "Epoch 15/20\n",
      "\u001b[1m1563/1563\u001b[0m \u001b[32m━━━━━━━━━━━━━━━━━━━━\u001b[0m\u001b[37m\u001b[0m \u001b[1m44s\u001b[0m 28ms/step - accuracy: 0.6265 - loss: 1.0378 - val_accuracy: 0.5702 - val_loss: 1.1925\n",
      "Epoch 16/20\n",
      "\u001b[1m1563/1563\u001b[0m \u001b[32m━━━━━━━━━━━━━━━━━━━━\u001b[0m\u001b[37m\u001b[0m \u001b[1m46s\u001b[0m 30ms/step - accuracy: 0.6364 - loss: 1.0112 - val_accuracy: 0.5732 - val_loss: 1.2021\n",
      "Epoch 17/20\n",
      "\u001b[1m1563/1563\u001b[0m \u001b[32m━━━━━━━━━━━━━━━━━━━━\u001b[0m\u001b[37m\u001b[0m \u001b[1m46s\u001b[0m 29ms/step - accuracy: 0.6463 - loss: 0.9889 - val_accuracy: 0.5781 - val_loss: 1.1823\n",
      "Epoch 18/20\n",
      "\u001b[1m1563/1563\u001b[0m \u001b[32m━━━━━━━━━━━━━━━━━━━━\u001b[0m\u001b[37m\u001b[0m \u001b[1m45s\u001b[0m 29ms/step - accuracy: 0.6529 - loss: 0.9723 - val_accuracy: 0.5758 - val_loss: 1.1894\n",
      "Epoch 19/20\n",
      "\u001b[1m1563/1563\u001b[0m \u001b[32m━━━━━━━━━━━━━━━━━━━━\u001b[0m\u001b[37m\u001b[0m \u001b[1m45s\u001b[0m 29ms/step - accuracy: 0.6508 - loss: 0.9641 - val_accuracy: 0.5788 - val_loss: 1.1873\n",
      "Epoch 20/20\n",
      "\u001b[1m1563/1563\u001b[0m \u001b[32m━━━━━━━━━━━━━━━━━━━━\u001b[0m\u001b[37m\u001b[0m \u001b[1m46s\u001b[0m 29ms/step - accuracy: 0.6594 - loss: 0.9417 - val_accuracy: 0.5703 - val_loss: 1.2088\n"
     ]
    }
   ],
   "source": [
    "# **Model 3: Recurrent Neural Network (RNN)**\n",
    "model_rnn = models.Sequential()\n",
    "model_rnn.add(layers.Reshape((32, 32*3), input_shape=(32, 32, 3)))\n",
    "model_rnn.add(layers.LSTM(64, return_sequences=True))\n",
    "model_rnn.add(layers.LSTM(32))\n",
    "model_rnn.add(layers.Dense(10))\n",
    "\n",
    "model_rnn.compile(optimizer='adam',\n",
    "              loss=tf.keras.losses.SparseCategoricalCrossentropy(from_logits=True),\n",
    "              metrics=['accuracy'])\n",
    "\n",
    "history_rnn = model_rnn.fit(train_images, train_labels, epochs=20, \n",
    "                    validation_data=(test_images, test_labels))"
   ]
  },
  {
   "cell_type": "code",
   "execution_count": 8,
   "id": "09ceb8e8",
   "metadata": {
    "execution": {
     "iopub.execute_input": "2024-09-04T05:03:46.932435Z",
     "iopub.status.busy": "2024-09-04T05:03:46.931897Z",
     "iopub.status.idle": "2024-09-04T05:03:54.879588Z",
     "shell.execute_reply": "2024-09-04T05:03:54.878470Z"
    },
    "papermill": {
     "duration": 10.950516,
     "end_time": "2024-09-04T05:03:54.882304",
     "exception": false,
     "start_time": "2024-09-04T05:03:43.931788",
     "status": "completed"
    },
    "tags": []
   },
   "outputs": [
    {
     "name": "stdout",
     "output_type": "stream",
     "text": [
      "313/313 - 3s - 9ms/step - accuracy: 0.7031 - loss: 1.1648\n",
      "313/313 - 1s - 2ms/step - accuracy: 0.4719 - loss: 1.4860\n",
      "313/313 - 3s - 11ms/step - accuracy: 0.5703 - loss: 1.2088\n"
     ]
    }
   ],
   "source": [
    "# Evaluating the models on the test data\n",
    "test_loss_cnn, test_acc_cnn = model_cnn.evaluate(test_images,  test_labels, verbose=2)\n",
    "test_loss_snn, test_acc_snn = model_snn.evaluate(test_images,  test_labels, verbose=2)\n",
    "test_loss_rnn, test_acc_rnn = model_rnn.evaluate(test_images,  test_labels, verbose=2)"
   ]
  },
  {
   "cell_type": "code",
   "execution_count": 9,
   "id": "9d385443",
   "metadata": {
    "execution": {
     "iopub.execute_input": "2024-09-04T05:04:00.727326Z",
     "iopub.status.busy": "2024-09-04T05:04:00.726848Z",
     "iopub.status.idle": "2024-09-04T05:04:00.758978Z",
     "shell.execute_reply": "2024-09-04T05:04:00.757618Z"
    },
    "papermill": {
     "duration": 2.955364,
     "end_time": "2024-09-04T05:04:00.761472",
     "exception": false,
     "start_time": "2024-09-04T05:03:57.806108",
     "status": "completed"
    },
    "tags": []
   },
   "outputs": [
    {
     "data": {
      "text/html": [
       "<div>\n",
       "<style scoped>\n",
       "    .dataframe tbody tr th:only-of-type {\n",
       "        vertical-align: middle;\n",
       "    }\n",
       "\n",
       "    .dataframe tbody tr th {\n",
       "        vertical-align: top;\n",
       "    }\n",
       "\n",
       "    .dataframe thead th {\n",
       "        text-align: right;\n",
       "    }\n",
       "</style>\n",
       "<table border=\"1\" class=\"dataframe\">\n",
       "  <thead>\n",
       "    <tr style=\"text-align: right;\">\n",
       "      <th></th>\n",
       "      <th>Model</th>\n",
       "      <th>Training Accuracy</th>\n",
       "      <th>Validation Accuracy</th>\n",
       "      <th>Test Accuracy</th>\n",
       "      <th>Test Loss</th>\n",
       "    </tr>\n",
       "  </thead>\n",
       "  <tbody>\n",
       "    <tr>\n",
       "      <th>0</th>\n",
       "      <td>CNN</td>\n",
       "      <td>0.88430</td>\n",
       "      <td>0.7031</td>\n",
       "      <td>0.7031</td>\n",
       "      <td>1.164802</td>\n",
       "    </tr>\n",
       "    <tr>\n",
       "      <th>1</th>\n",
       "      <td>SNN</td>\n",
       "      <td>0.51278</td>\n",
       "      <td>0.4719</td>\n",
       "      <td>0.4719</td>\n",
       "      <td>1.485993</td>\n",
       "    </tr>\n",
       "    <tr>\n",
       "      <th>2</th>\n",
       "      <td>RNN</td>\n",
       "      <td>0.65732</td>\n",
       "      <td>0.5703</td>\n",
       "      <td>0.5703</td>\n",
       "      <td>1.208768</td>\n",
       "    </tr>\n",
       "  </tbody>\n",
       "</table>\n",
       "</div>"
      ],
      "text/plain": [
       "  Model  Training Accuracy  Validation Accuracy  Test Accuracy  Test Loss\n",
       "0   CNN            0.88430               0.7031         0.7031   1.164802\n",
       "1   SNN            0.51278               0.4719         0.4719   1.485993\n",
       "2   RNN            0.65732               0.5703         0.5703   1.208768"
      ]
     },
     "execution_count": 9,
     "metadata": {},
     "output_type": "execute_result"
    }
   ],
   "source": [
    "# Creating a pandas DataFrame to display the metrics results\n",
    "metrics_df = pd.DataFrame({\n",
    "    'Model': ['CNN', 'SNN', 'RNN'],\n",
    "    'Training Accuracy': [history_cnn.history['accuracy'][-1], history_snn.history['accuracy'][-1], history_rnn.history['accuracy'][-1]],\n",
    "    'Validation Accuracy': [history_cnn.history['val_accuracy'][-1], history_snn.history['val_accuracy'][-1], history_rnn.history['val_accuracy'][-1]],\n",
    "    'Test Accuracy': [test_acc_cnn, test_acc_snn, test_acc_rnn],\n",
    "    'Test Loss': [test_loss_cnn, test_loss_snn, test_loss_rnn]\n",
    "})\n",
    "\n",
    "metrics_df"
   ]
  },
  {
   "cell_type": "code",
   "execution_count": null,
   "id": "e5e9cd59",
   "metadata": {
    "papermill": {
     "duration": 2.991995,
     "end_time": "2024-09-04T05:04:06.656222",
     "exception": false,
     "start_time": "2024-09-04T05:04:03.664227",
     "status": "completed"
    },
    "tags": []
   },
   "outputs": [],
   "source": []
  }
 ],
 "metadata": {
  "kaggle": {
   "accelerator": "none",
   "dataSources": [],
   "dockerImageVersionId": 30761,
   "isGpuEnabled": false,
   "isInternetEnabled": true,
   "language": "python",
   "sourceType": "notebook"
  },
  "kernelspec": {
   "display_name": "Python 3",
   "language": "python",
   "name": "python3"
  },
  "language_info": {
   "codemirror_mode": {
    "name": "ipython",
    "version": 3
   },
   "file_extension": ".py",
   "mimetype": "text/x-python",
   "name": "python",
   "nbconvert_exporter": "python",
   "pygments_lexer": "ipython3",
   "version": "3.10.14"
  },
  "papermill": {
   "default_parameters": {},
   "duration": 1961.092026,
   "end_time": "2024-09-04T05:04:11.620486",
   "environment_variables": {},
   "exception": null,
   "input_path": "__notebook__.ipynb",
   "output_path": "__notebook__.ipynb",
   "parameters": {},
   "start_time": "2024-09-04T04:31:30.528460",
   "version": "2.6.0"
  }
 },
 "nbformat": 4,
 "nbformat_minor": 5
}
