{
 "cells": [
  {
   "cell_type": "markdown",
   "metadata": {},
   "source": [
    "**1.** **Our First NumPy Array**"
   ]
  },
  {
   "cell_type": "code",
   "execution_count": 2,
   "metadata": {},
   "outputs": [
    {
     "name": "stdout",
     "output_type": "stream",
     "text": [
      "<class 'numpy.ndarray'>\n",
      "[180 215 210 210 188 176 209 200]\n"
     ]
    }
   ],
   "source": [
    "import numpy as np\n",
    "\n",
    "baseball = [180, 215, 210, 210, 188, 176, 209, 200]\n",
    "\n",
    "np_baseball = np.array(baseball)\n",
    "\n",
    "print(type(np_baseball))\n",
    "\n",
    "print(np_baseball)"
   ]
  },
  {
   "cell_type": "markdown",
   "metadata": {},
   "source": []
  },
  {
   "cell_type": "markdown",
   "metadata": {},
   "source": [
    "**2.** **Baseball players' height**"
   ]
  },
  {
   "cell_type": "code",
   "execution_count": 3,
   "metadata": {},
   "outputs": [
    {
     "name": "stdout",
     "output_type": "stream",
     "text": [
      "Heights in inches: [72 74 69 71 68 77 70 74]\n",
      "Heights in meters: [1.8288 1.8796 1.7526 1.8034 1.7272 1.9558 1.778  1.8796]\n"
     ]
    }
   ],
   "source": [
    "height_in = [72, 74, 69, 71, 68, 77, 70, 74]\n",
    "\n",
    "np_height_in = np.array(height_in)\n",
    "\n",
    "print(\"Heights in inches:\", np_height_in)\n",
    "\n",
    "np_height_m = np_height_in * 0.0254\n",
    "\n",
    "print(\"Heights in meters:\", np_height_m)"
   ]
  },
  {
   "cell_type": "markdown",
   "metadata": {},
   "source": [
    "**3.** **Baseball player's BMI**"
   ]
  },
  {
   "cell_type": "code",
   "execution_count": 6,
   "metadata": {},
   "outputs": [
    {
     "name": "stdout",
     "output_type": "stream",
     "text": [
      "BMI values: [24.41211827 27.60406069 31.01123531 27.19667848 25.84812523 18.97302091\n",
      " 28.69669413 24.39428619]\n"
     ]
    }
   ],
   "source": [
    "weight_lb = [180, 215, 210, 195, 170, 160, 200, 190]\n",
    "\n",
    "np_weight_lb = np.array(weight_lb)\n",
    "\n",
    "np_weight_kg = np_weight_lb * 0.453592\n",
    "\n",
    "bmi = np_weight_kg / (np_height_m ** 2) # np_height_m is defined in the above cell \n",
    "\n",
    "print(\"BMI values:\", bmi)"
   ]
  },
  {
   "cell_type": "markdown",
   "metadata": {},
   "source": [
    "**4.** **Lightweight baseball players**"
   ]
  },
  {
   "cell_type": "code",
   "execution_count": 9,
   "metadata": {},
   "outputs": [
    {
     "name": "stdout",
     "output_type": "stream",
     "text": [
      "Boolean array: [False False False False False  True False False]\n",
      "BMIs of players with BMI below 21: [18.97302091]\n"
     ]
    }
   ],
   "source": [
    "light = bmi < 21\n",
    "\n",
    "print(\"Boolean array:\", light)\n",
    "\n",
    "bmi_below_21 = bmi[light]\n",
    "print(\"BMIs of players with BMI below 21:\", bmi_below_21)"
   ]
  },
  {
   "cell_type": "code",
   "execution_count": 10,
   "metadata": {},
   "outputs": [
    {
     "data": {
      "text/plain": [
       "array([4, 5, 2])"
      ]
     },
     "execution_count": 10,
     "metadata": {},
     "output_type": "execute_result"
    }
   ],
   "source": [
    "np.array([True, 1, 2]) + np.array([3, 4, False])"
   ]
  },
  {
   "cell_type": "code",
   "execution_count": 11,
   "metadata": {},
   "outputs": [
    {
     "data": {
      "text/plain": [
       "array([4, 5, 2])"
      ]
     },
     "execution_count": 11,
     "metadata": {},
     "output_type": "execute_result"
    }
   ],
   "source": [
    "np.array([4, 3, 0]) + np.array([0, 2, 2])"
   ]
  },
  {
   "cell_type": "markdown",
   "metadata": {},
   "source": [
    "**5.** **Blend it all together**"
   ]
  },
  {
   "cell_type": "code",
   "execution_count": 12,
   "metadata": {},
   "outputs": [
    {
     "name": "stdout",
     "output_type": "stream",
     "text": [
      "Median height of goalkeepers: 191.0\n",
      "Median height of other players: 184.0\n"
     ]
    }
   ],
   "source": [
    "positions = ['GK', 'M', 'A', 'D']\n",
    "heights = [191, 184, 185, 180]\n",
    "\n",
    "\n",
    "np_positions=np.array(positions)\n",
    "np_heights=np.array(heights)\n",
    "\n",
    "\n",
    "gk_heights = np_heights[np_positions == 'GK']\n",
    "\n",
    "other_heights=np_heights[np_positions!='GK']\n",
    "\n",
    "print(\"Median height of goalkeepers: \" + str(np.median(gk_heights)))\n",
    "\n",
    "print(\"Median height of other players: \" + str(np.median(other_heights)))"
   ]
  }
 ],
 "metadata": {
  "kernelspec": {
   "display_name": "datascience",
   "language": "python",
   "name": "datascience"
  },
  "language_info": {
   "codemirror_mode": {
    "name": "ipython",
    "version": 3
   },
   "file_extension": ".py",
   "mimetype": "text/x-python",
   "name": "python",
   "nbconvert_exporter": "python",
   "pygments_lexer": "ipython3",
   "version": "3.10.9"
  }
 },
 "nbformat": 4,
 "nbformat_minor": 2
}
