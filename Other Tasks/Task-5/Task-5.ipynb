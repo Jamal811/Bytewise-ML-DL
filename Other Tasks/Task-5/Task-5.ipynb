{
 "cells": [
  {
   "cell_type": "markdown",
   "metadata": {},
   "source": [
    "**Try and Except**"
   ]
  },
  {
   "cell_type": "code",
   "execution_count": 7,
   "metadata": {},
   "outputs": [
    {
     "name": "stdout",
     "output_type": "stream",
     "text": [
      "I am inside the try block\n",
      "The sum of two numbers is  30\n"
     ]
    }
   ],
   "source": [
    "num1 = int(input(\"Enter the first number :\\n\"))\n",
    "num2 = int(input(\"Enter the second number :\\n\"))\n",
    "# print(num1, num2)\n",
    "try:\n",
    "    print(\"I am inside the try block\")\n",
    "    sum = num1+num2\n",
    "    print(\"The sum of two numbers is \", sum)\n",
    "except:\n",
    "    pass"
   ]
  },
  {
   "cell_type": "code",
   "execution_count": 10,
   "metadata": {},
   "outputs": [
    {
     "name": "stdout",
     "output_type": "stream",
     "text": [
      "I am inside the try block\n",
      "I am inside the Catch block\n",
      "The error which happed is : invalid literal for int() with base 10: 'shah'\n"
     ]
    }
   ],
   "source": [
    "num1 = input(\"Enter the first number :\\n\")\n",
    "num2 = input(\"Enter the second number :\\n\")\n",
    "# print(num1, num2)\n",
    "try:\n",
    "    print(\"I am inside the try block\")\n",
    "    sum = int(num1)+int(num2)\n",
    "    print(\"I have completed the task\")\n",
    "    print(\"The sum of two numbers is \", sum)\n",
    "except Exception as e:\n",
    "    print(\"I am inside the Catch block\")\n",
    "    print(\"The error which happed is :\", e)"
   ]
  },
  {
   "cell_type": "markdown",
   "metadata": {},
   "source": [
    "**Global and Local Variables**"
   ]
  },
  {
   "cell_type": "code",
   "execution_count": 14,
   "metadata": {},
   "outputs": [
    {
     "name": "stdout",
     "output_type": "stream",
     "text": [
      "Jamal shah I have printed the value of L which is : 40\n"
     ]
    }
   ],
   "source": [
    "l=20 #Global variable\n",
    "def function(n):\n",
    "    l=40 #Local variable\n",
    "    print(n,\"I have printed the value of L which is :\", l)\n",
    "function(\"Jamal shah\")"
   ]
  },
  {
   "cell_type": "markdown",
   "metadata": {},
   "source": [
    "**lambda function**"
   ]
  },
  {
   "cell_type": "code",
   "execution_count": 15,
   "metadata": {},
   "outputs": [
    {
     "name": "stdout",
     "output_type": "stream",
     "text": [
      "30\n"
     ]
    }
   ],
   "source": [
    "#simple function\n",
    "def add(a, b):\n",
    "    return a +b\n",
    "print(add(10, 20))"
   ]
  },
  {
   "cell_type": "code",
   "execution_count": 29,
   "metadata": {},
   "outputs": [
    {
     "name": "stdout",
     "output_type": "stream",
     "text": [
      "50\n",
      "60\n",
      "400\n",
      "5.0\n"
     ]
    }
   ],
   "source": [
    "#Lambda function\n",
    "add = lambda x,y: x+y \n",
    "print(add(10,40))\n",
    "\n",
    "sub = lambda x,y: x-y \n",
    "print(sub(100,40))\n",
    "\n",
    "mul = lambda x,y: x*y \n",
    "print(mul(10,40))\n",
    "\n",
    "div = lambda x,y: x/y \n",
    "print(div(10,2))"
   ]
  },
  {
   "cell_type": "markdown",
   "metadata": {},
   "source": [
    "**Parameters**"
   ]
  },
  {
   "cell_type": "code",
   "execution_count": 18,
   "metadata": {},
   "outputs": [
    {
     "name": "stdout",
     "output_type": "stream",
     "text": [
      "Shah  Scored  100  Marks\n"
     ]
    }
   ],
   "source": [
    "def studentScore(name, score):\n",
    "    print(name, \" Scored \", score, \" Marks\")\n",
    "\n",
    "studentScore(\"Shah\", 100)"
   ]
  },
  {
   "cell_type": "markdown",
   "metadata": {},
   "source": [
    "**Default Parameters**"
   ]
  },
  {
   "cell_type": "code",
   "execution_count": 19,
   "metadata": {},
   "outputs": [
    {
     "name": "stdout",
     "output_type": "stream",
     "text": [
      "Jamal  Scored  0  Marks\n"
     ]
    }
   ],
   "source": [
    "def studentScore(name=\"Jamal\", score=0):\n",
    "    print(name, \" Scored \", score, \" Marks\")\n",
    "\n",
    "studentScore()"
   ]
  },
  {
   "cell_type": "code",
   "execution_count": 20,
   "metadata": {},
   "outputs": [
    {
     "name": "stdout",
     "output_type": "stream",
     "text": [
      "Shah  Scored  90  Marks\n"
     ]
    }
   ],
   "source": [
    "def studentScore(name=\"Jamal\", score=0):\n",
    "    print(name, \" Scored \", score, \" Marks\")\n",
    "\n",
    "studentScore(\"Shah\", 90)"
   ]
  },
  {
   "cell_type": "code",
   "execution_count": 23,
   "metadata": {},
   "outputs": [
    {
     "name": "stdout",
     "output_type": "stream",
     "text": [
      "Jamal  Scored  90  Marks\n"
     ]
    }
   ],
   "source": [
    "def studentScore(name=\"Jamal\", score=0):\n",
    "    print(name, \" Scored \", score, \" Marks\")\n",
    "\n",
    "studentScore(score=90)"
   ]
  },
  {
   "cell_type": "markdown",
   "metadata": {},
   "source": [
    "**Multiple Arguments**"
   ]
  },
  {
   "cell_type": "code",
   "execution_count": 24,
   "metadata": {},
   "outputs": [
    {
     "name": "stdout",
     "output_type": "stream",
     "text": [
      "Khan (100, 40, 50, 20)\n"
     ]
    }
   ],
   "source": [
    "def studentScore(name, *score):\n",
    "    print(name, score)\n",
    "\n",
    "studentScore(\"Khan\", 100, 40, 50, 20)"
   ]
  }
 ],
 "metadata": {
  "kernelspec": {
   "display_name": "datascience",
   "language": "python",
   "name": "datascience"
  },
  "language_info": {
   "codemirror_mode": {
    "name": "ipython",
    "version": 3
   },
   "file_extension": ".py",
   "mimetype": "text/x-python",
   "name": "python",
   "nbconvert_exporter": "python",
   "pygments_lexer": "ipython3",
   "version": "3.10.9"
  }
 },
 "nbformat": 4,
 "nbformat_minor": 2
}
